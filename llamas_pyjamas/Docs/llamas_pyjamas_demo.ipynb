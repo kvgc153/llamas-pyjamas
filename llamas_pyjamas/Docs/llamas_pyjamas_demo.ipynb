{
 "cells": [
  {
   "cell_type": "code",
   "execution_count": null,
   "metadata": {},
   "outputs": [],
   "source": [
    "from llamas_pyjamas.File import llamasIO\n",
    "from llamas_pyjamas.Trace import traceLlamas as trace\n",
    "import importlib\n",
    "import numpy as np\n",
    "%matplotlib qt"
   ]
  },
  {
   "cell_type": "markdown",
   "metadata": {},
   "source": [
    "# Read in data\n",
    "\n",
    "With some basic modules now imported, read in a LLAMAS multi-extension fits file and put it into a data object."
   ]
  },
  {
   "cell_type": "code",
   "execution_count": null,
   "metadata": {},
   "outputs": [],
   "source": [
    "dataobj = llamasIO.llamasAllCameras('DATA/LLAMAS_2024-08-23T16_12_14.742_mef.fits')"
   ]
  },
  {
   "cell_type": "code",
   "execution_count": null,
   "metadata": {},
   "outputs": [],
   "source": [
    "traceone = trace.TraceLlamas()"
   ]
  },
  {
   "cell_type": "code",
   "execution_count": 105,
   "metadata": {},
   "outputs": [
    {
     "name": "stdout",
     "output_type": "stream",
     "text": [
      "Tracing Bench 1B (green)\n",
      "NFibers = 140\n",
      "...Generating the trace fitting grid...\n",
      "...Solving for the trace functions...\n",
      "...All done [traceSingleCamera]!\n"
     ]
    }
   ],
   "source": [
    "importlib.reload(trace)\n",
    "traceone.traceSingleCamera(dataobj.extensions[3])"
   ]
  },
  {
   "cell_type": "code",
   "execution_count": 107,
   "metadata": {},
   "outputs": [
    {
     "name": "stdout",
     "output_type": "stream",
     "text": [
      "...Solving profile weights for Fiber #\n",
      ".....0\n",
      ".....1\n",
      ".....2\n",
      ".....3\n",
      ".....4\n",
      ".....5\n",
      ".....6\n",
      ".....7\n",
      ".....8\n",
      ".....9\n",
      ".....10\n",
      ".....11\n",
      ".....12\n",
      ".....13\n",
      ".....14\n",
      ".....15\n",
      ".....16\n",
      ".....17\n",
      ".....18\n",
      ".....19\n",
      ".....20\n",
      ".....21\n",
      ".....22\n",
      ".....23\n",
      ".....24\n",
      ".....25\n",
      ".....26\n",
      ".....27\n",
      ".....28\n",
      ".....29\n",
      ".....30\n",
      ".....31\n",
      ".....32\n",
      ".....33\n",
      ".....34\n",
      ".....35\n",
      ".....36\n",
      ".....37\n",
      ".....38\n",
      ".....39\n",
      ".....40\n",
      ".....41\n",
      ".....42\n",
      ".....43\n",
      ".....44\n",
      ".....45\n",
      ".....46\n",
      ".....47\n",
      ".....48\n",
      ".....49\n",
      ".....50\n",
      ".....51\n",
      ".....52\n",
      ".....53\n",
      ".....54\n",
      ".....55\n",
      ".....56\n",
      ".....57\n",
      ".....58\n",
      ".....59\n",
      ".....60\n",
      ".....61\n",
      ".....62\n",
      ".....63\n",
      ".....64\n",
      ".....65\n",
      ".....66\n",
      ".....67\n",
      ".....68\n",
      ".....69\n",
      ".....70\n",
      ".....71\n",
      ".....72\n",
      ".....73\n",
      ".....74\n",
      ".....75\n",
      ".....76\n",
      ".....77\n",
      ".....78\n",
      ".....79\n",
      ".....80\n",
      ".....81\n",
      ".....82\n",
      ".....83\n",
      ".....84\n",
      ".....85\n",
      ".....86\n",
      ".....87\n",
      ".....88\n",
      ".....89\n",
      ".....90\n",
      ".....91\n",
      ".....92\n",
      ".....93\n",
      ".....94\n",
      ".....95\n",
      ".....96\n",
      ".....97\n",
      ".....98\n",
      ".....99\n",
      ".....100\n",
      ".....101\n",
      ".....102\n",
      ".....103\n",
      ".....104\n",
      ".....105\n",
      ".....106\n",
      ".....107\n",
      ".....108\n",
      ".....109\n",
      ".....110\n",
      ".....111\n",
      ".....112\n",
      ".....113\n",
      ".....114\n",
      ".....115\n",
      ".....116\n",
      ".....117\n",
      ".....118\n",
      ".....119\n",
      ".....120\n",
      ".....121\n",
      ".....122\n",
      ".....123\n",
      ".....124\n",
      ".....125\n",
      ".....126\n",
      ".....127\n",
      ".....128\n",
      ".....129\n",
      ".....130\n",
      ".....131\n",
      ".....132\n",
      ".....133\n",
      ".....134\n",
      ".....135\n",
      ".....136\n",
      ".....137\n",
      ".....138\n",
      ".....139\n"
     ]
    }
   ],
   "source": [
    "fiberimg, profimg, bpmask = traceone.profileFit()"
   ]
  },
  {
   "cell_type": "code",
   "execution_count": 111,
   "metadata": {},
   "outputs": [
    {
     "data": {
      "text/plain": [
       "1"
      ]
     },
     "execution_count": 111,
     "metadata": {},
     "output_type": "execute_result"
    }
   ],
   "source": [
    "import pyds9\n",
    "ds9 = pyds9.DS9()\n",
    "ds9.set_np2arr(fiberimg)"
   ]
  },
  {
   "cell_type": "code",
   "execution_count": 116,
   "metadata": {},
   "outputs": [
    {
     "data": {
      "text/plain": [
       "1"
      ]
     },
     "execution_count": 116,
     "metadata": {},
     "output_type": "execute_result"
    }
   ],
   "source": [
    "ds9.set_np2arr(dataobj.extensions[3].data)\n"
   ]
  },
  {
   "cell_type": "markdown",
   "metadata": {},
   "source": []
  }
 ],
 "metadata": {
  "kernelspec": {
   "display_name": "llamas",
   "language": "python",
   "name": "python3"
  },
  "language_info": {
   "codemirror_mode": {
    "name": "ipython",
    "version": 3
   },
   "file_extension": ".py",
   "mimetype": "text/x-python",
   "name": "python",
   "nbconvert_exporter": "python",
   "pygments_lexer": "ipython3",
   "version": "3.12.7"
  }
 },
 "nbformat": 4,
 "nbformat_minor": 2
}
