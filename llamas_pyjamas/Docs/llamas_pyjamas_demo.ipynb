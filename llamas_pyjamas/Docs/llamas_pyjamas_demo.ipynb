{
 "cells": [
  {
   "cell_type": "code",
   "execution_count": 2,
   "metadata": {},
   "outputs": [],
   "source": [
    "from llamas_pyjamas.File import llamasIO\n",
    "from llamas_pyjamas.Trace import traceLlamas as trace"
   ]
  },
  {
   "cell_type": "markdown",
   "metadata": {},
   "source": [
    "# Read in data\n",
    "\n",
    "With some basic modules now imported, read in a LLAMAS multi-extension fits file and put it into a data object."
   ]
  },
  {
   "cell_type": "code",
   "execution_count": null,
   "metadata": {},
   "outputs": [
    {
     "data": {
      "text/plain": [
       "SIMPLE  =                    T / conforms to FITS standard                      \n",
       "BITPIX  =                    8 / array data type                                \n",
       "NAXIS   =                    0 / number of array dimensions                     \n",
       "EXTEND  =                    T                                                  \n",
       "ORIGIN  =  / Observatory or facility where the data were originally obtained    \n",
       "TELESCOP=  / Telescope used for observation                                     \n",
       "INSTRUME=  / Instrument used for observation                                    \n",
       "PI-COI  =  / Name(s) of proposer(s)                                             \n",
       "OBSERVER=  / Name of observer                                                   \n",
       "OBSTYPE =  / Type of observation                                                \n",
       "OBJECT  =  / Target description                                                 \n",
       "RA      =  / Equatorial coords. in decimal deg (J2000)                          \n",
       "DEC     =  / Equatorial coords. in decimal deg (J2000)                          \n",
       "RADECSYS= 'ICRS    '           / Coordinate reference frame: ICRS               \n",
       "EQUINOX =               2000.0 / Set to 2000.0 for ICRS reference frame         \n",
       "DATE    =  / Date this file was written                                         \n",
       "MJD-OBS =  / Observation start time (MJD)                                       \n",
       "EXPTIME =  / Exposure time (s)                                                  \n",
       "LST     =  / Local sidereal time at start                                       \n",
       "UTC     =  / UTC time at start                                                  \n",
       "HIERARCH TEL DATE-OBS =  / UT date: YYY-MM-DD                                   \n",
       "HIERARCH TEL UTC =  / UT time in HH:MM:SS                                       \n",
       "HIERARCH TEL LST =  / Sidereal time in HH:MM:SS                                 \n",
       "HIERARCH TEL RA =  / Right ascension in HH:MM:SS.SS                             \n",
       "HIERARCH TEL DEC =  / Declination in DD:MM:SS.S                                 \n",
       "HIERARCH TEL EPOCH =  / Equinox of current telescope coordinates                \n",
       "HIERARCH TEL HA =  / Hour angle in HH:MM:SS                                     \n",
       "HIERARCH TEL AIRMASS =  / Observational airmass                                 \n",
       "HIERARCH TEL AZ =  / Azimuth of telescope (deg)                                 \n",
       "HIERARCH TEL ALT =  / Altitude of telescope (deg)                               \n",
       "HIERARCH TEL ZA =  / Zenith angle (deg)                                         \n",
       "HIERARCH TEL PA =  / Parallactic angle (deg)                                    \n",
       "HIERARCH TEL DOME AZ =  / Dome azimuth angle (deg)                              \n",
       "HIERARCH TEL DOME STATUS CODE =  / Dome status code                             \n",
       "HIERARCH TEL DOME STATUS =  / Dome status (closed/open/unknown)                 \n",
       "HIERARCH TEL MOTION STATUS-CODE =  / No description available                   \n",
       "HIERARCH TEL MOUNT STATUS CODE =  / No description available                    \n",
       "HIERARCH TEL MOUNT STATUS =  / Telescope mount status                           \n",
       "HIERARCH TEL GUIDER1 STATUS CODE =  / Telescope guider 1 status code            \n",
       "HIERARCH TEL GUIDER1 STATUS =  / Telescope guider 1 status                      \n",
       "HIERARCH TEL GUIDER2 STATUS-CODE =  / No description available                  \n",
       "HIERARCH TEL GUIDER2 STATUS =  / Telescope guider 1 status                      \n",
       "HIERARCH TEL MOUNTROTATOR MOTION STATUS-CODE =                                  \n",
       "HIERARCH TEL MOUNT SLEWING STATUS =  / Telescope slewing status                 \n",
       "HIERARCH TEL ROTATOR SERVO STATUS =  / Rotator in closed loop servo control     \n",
       "HIERARCH TEL ROTATOR INPOSITION STATUS =  / Rotator in requested position       \n",
       "HIERARCH TEL ROTATOR INPOSITION TIME STATUS =  / .. for req'd time              \n",
       "HIERARCH INS SHUTTER OPEN TIMESTAMP =  / UTC timestamp of shutter opening       \n",
       "HIERARCH INS SHUTTER CLOSE TIMESTAMP =  / UTC timestamp of shutter closing      \n",
       "HIERARCH FRONTEND STATE =  / Front end state (Relay/ADC/Cal/Dark)               \n",
       "HIERARCH FRONTEND SELECTOR STATE =  / Front end selector state (LDLS/ThAr/Arcs) \n",
       "HIERARCH FRONTEND LAMPS THAR STATE =  / Thorium Argon lamp state (on/off)       \n",
       "HIERARCH FRONTEND LAMPS KR STATE =  / Krypton lamp state (on/off)               \n",
       "HIERARCH FRONTEND LAMPS AR STATE =  / Argon lamp state (on/off)                 \n",
       "HIERARCH FRONTEND LAMPS NE STATE =  / Neon lamp state (on/off)                  \n",
       "HIERARCH FRONTEND IFU MASK-STATE =  / IFU mask state (FullField/HalfField/Dark) \n",
       "HIERARCH OBS TYPE =  / Observation type (science/cal/test/etc)                  \n",
       "HIERARCH OBS OBSERVER =  / Observer name                                        \n",
       "HIERARCH OBS PI-COI =  / Observation PI/Co-I names                              \n",
       "HIERARCH OBS TARGET NAME =  / Target name                                       \n",
       "HIERARCH OBS TARGET RA =  / Target RA (deg)                                     \n",
       "HIERARCH OBS TARGET DEC =  / Target Dec (deg)                                   \n",
       "HIERARCH OBS PROGRAM NAME =  / Observing program name                           \n",
       "HIERARCH OBS PROGRAM ID =  / Observing program ID code                          \n",
       "HIERARCH OBS EXPTIME REQ =  / Requested exposure time                           "
      ]
     },
     "execution_count": 4,
     "metadata": {},
     "output_type": "execute_result"
    }
   ],
   "source": [
    "\n",
    "dataobj = llamasIO.llamasAllCameras('DATA/LLAMAS_2024-08-20T18_13_20.958_mef.fits')\n",
    "dataobj.header"
   ]
  }
 ],
 "metadata": {
  "kernelspec": {
   "display_name": "llamas",
   "language": "python",
   "name": "python3"
  },
  "language_info": {
   "codemirror_mode": {
    "name": "ipython",
    "version": 3
   },
   "file_extension": ".py",
   "mimetype": "text/x-python",
   "name": "python",
   "nbconvert_exporter": "python",
   "pygments_lexer": "ipython3",
   "version": "3.12.7"
  }
 },
 "nbformat": 4,
 "nbformat_minor": 2
}
