{
 "cells": [
  {
   "cell_type": "markdown",
   "metadata": {},
   "source": [
    "# Importing llamas_pyjamas modules"
   ]
  },
  {
   "cell_type": "code",
   "execution_count": 5,
   "metadata": {},
   "outputs": [],
   "source": [
    "import os\n",
    "import sys\n",
    "import numpy as np\n",
    "import pickle\n",
    "import glob\n",
    "#sys.path.append(os.path.dirname(os.path.dirname(os.getcwd())))\n",
    "#print(sys.path)\n",
    "sys.path.append('/Users/slh/Documents/Projects/Magellan_dev/LLAMAS/llamas-pyjamas')\n",
    "from llamas_pyjamas.Trace.traceLlamasMulti import TraceLlamas, main # type: ignore\n",
    "from llamas_pyjamas.Extract.extractLlamas import ExtractLlamas # type: ignore\n",
    "\n",
    "outputdir = '/Users/slh/Documents/Projects/Magellan_dev/LLAMAS/llamas-pyjamas/llamas_pyjamas/output'"
   ]
  },
  {
   "cell_type": "markdown",
   "metadata": {},
   "source": [
    "Running the trace finding algorithm on all of the HDU extensions"
   ]
  },
  {
   "cell_type": "code",
   "execution_count": 6,
   "metadata": {},
   "outputs": [
    {
     "name": "stderr",
     "output_type": "stream",
     "text": [
      "2024-11-22 11:06:35,114\tINFO worker.py:1652 -- Calling ray.init() again after it has already been called.\n"
     ]
    },
    {
     "name": "stdout",
     "output_type": "stream",
     "text": [
      "\n",
      "Starting with 10 cores available\n",
      "Current CPU Usage: 12.0%\n",
      "\n",
      "Processing 16 HDUs with 10 cores\n",
      "\n",
      "Processing Status:\n",
      "CPU Usage: [26.4, 25.9, 16.5, 10.7, 6.2, 4.1, 3.1, 1.6, 0.9, 0.7]%\n",
      "Progress: 0/16 jobs complete\n"
     ]
    },
    {
     "ename": "ActorDiedError",
     "evalue": "The actor died because of an error raised in its creation task, \u001b[36mray::TraceRay.__init__()\u001b[39m (pid=66880, ip=127.0.0.1, actor_id=0a2b5728176ff99a82bd650c01000000, repr=<llamas_pyjamas.Trace.traceLlamasMulti.FunctionActorManager._create_fake_actor_class.<locals>.TemporaryActor object at 0x106e44500>)\n           ^^^^^^^^^^^^^^^^^^^^^^^^^^^^^^^^^^^^\nRuntimeError: The actor with name TraceRay failed to import on the worker. This may be because needed library dependencies are not installed in the worker environment:\n\n\u001b[36mray::TraceRay.__init__()\u001b[39m (pid=66880, ip=127.0.0.1, actor_id=0a2b5728176ff99a82bd650c01000000, repr=<llamas_pyjamas.Trace.traceLlamasMulti.FunctionActorManager._create_fake_actor_class.<locals>.TemporaryActor object at 0x106e44500>)\n                  ^^^^^^^^^^^^^^^^^^^^^^^^^^^\nModuleNotFoundError: No module named 'llamas_pyjamas'",
     "output_type": "error",
     "traceback": [
      "\u001b[0;31m---------------------------------------------------------------------------\u001b[0m",
      "\u001b[0;31mActorDiedError\u001b[0m                            Traceback (most recent call last)",
      "Cell \u001b[0;32mIn[6], line 2\u001b[0m\n\u001b[1;32m      1\u001b[0m fitsfile \u001b[38;5;241m=\u001b[39m \u001b[38;5;124m'\u001b[39m\u001b[38;5;124m/Users/slh/Documents/Projects/Magellan_dev/LLAMAS/LLAMAS_2024-11-20T13_15_33.000_mef.fits\u001b[39m\u001b[38;5;124m'\u001b[39m\n\u001b[0;32m----> 2\u001b[0m main(fitsfile)\n",
      "File \u001b[0;32m~/Documents/Projects/Magellan_dev/LLAMAS/llamas-pyjamas/llamas_pyjamas/Trace/traceLlamasMulti.py:337\u001b[0m, in \u001b[0;36mmain\u001b[0;34m(fitsfile)\u001b[0m\n\u001b[1;32m    333\u001b[0m     \u001b[38;5;28mprint\u001b[39m(\u001b[38;5;124mf\u001b[39m\u001b[38;5;124m\"\u001b[39m\u001b[38;5;124mProgress: \u001b[39m\u001b[38;5;132;01m{\u001b[39;00mcompleted\u001b[38;5;132;01m}\u001b[39;00m\u001b[38;5;124m/\u001b[39m\u001b[38;5;132;01m{\u001b[39;00mtotal_jobs\u001b[38;5;132;01m}\u001b[39;00m\u001b[38;5;124m jobs complete\u001b[39m\u001b[38;5;124m\"\u001b[39m)\n\u001b[1;32m    336\u001b[0m done_id, futures \u001b[38;5;241m=\u001b[39m ray\u001b[38;5;241m.\u001b[39mwait(futures)\n\u001b[0;32m--> 337\u001b[0m result \u001b[38;5;241m=\u001b[39m ray\u001b[38;5;241m.\u001b[39mget(done_id[\u001b[38;5;241m0\u001b[39m])\n\u001b[1;32m    338\u001b[0m results\u001b[38;5;241m.\u001b[39mappend(result)\n\u001b[1;32m    339\u001b[0m completed \u001b[38;5;241m+\u001b[39m\u001b[38;5;241m=\u001b[39m \u001b[38;5;241m1\u001b[39m\n",
      "File \u001b[0;32m~/anaconda3/envs/llamas_data_reduction/lib/python3.12/site-packages/ray/_private/auto_init_hook.py:21\u001b[0m, in \u001b[0;36mwrap_auto_init.<locals>.auto_init_wrapper\u001b[0;34m(*args, **kwargs)\u001b[0m\n\u001b[1;32m     18\u001b[0m \u001b[38;5;129m@wraps\u001b[39m(fn)\n\u001b[1;32m     19\u001b[0m \u001b[38;5;28;01mdef\u001b[39;00m \u001b[38;5;21mauto_init_wrapper\u001b[39m(\u001b[38;5;241m*\u001b[39margs, \u001b[38;5;241m*\u001b[39m\u001b[38;5;241m*\u001b[39mkwargs):\n\u001b[1;32m     20\u001b[0m     auto_init_ray()\n\u001b[0;32m---> 21\u001b[0m     \u001b[38;5;28;01mreturn\u001b[39;00m fn(\u001b[38;5;241m*\u001b[39margs, \u001b[38;5;241m*\u001b[39m\u001b[38;5;241m*\u001b[39mkwargs)\n",
      "File \u001b[0;32m~/anaconda3/envs/llamas_data_reduction/lib/python3.12/site-packages/ray/_private/client_mode_hook.py:103\u001b[0m, in \u001b[0;36mclient_mode_hook.<locals>.wrapper\u001b[0;34m(*args, **kwargs)\u001b[0m\n\u001b[1;32m    101\u001b[0m     \u001b[38;5;28;01mif\u001b[39;00m func\u001b[38;5;241m.\u001b[39m\u001b[38;5;18m__name__\u001b[39m \u001b[38;5;241m!=\u001b[39m \u001b[38;5;124m\"\u001b[39m\u001b[38;5;124minit\u001b[39m\u001b[38;5;124m\"\u001b[39m \u001b[38;5;129;01mor\u001b[39;00m is_client_mode_enabled_by_default:\n\u001b[1;32m    102\u001b[0m         \u001b[38;5;28;01mreturn\u001b[39;00m \u001b[38;5;28mgetattr\u001b[39m(ray, func\u001b[38;5;241m.\u001b[39m\u001b[38;5;18m__name__\u001b[39m)(\u001b[38;5;241m*\u001b[39margs, \u001b[38;5;241m*\u001b[39m\u001b[38;5;241m*\u001b[39mkwargs)\n\u001b[0;32m--> 103\u001b[0m \u001b[38;5;28;01mreturn\u001b[39;00m func(\u001b[38;5;241m*\u001b[39margs, \u001b[38;5;241m*\u001b[39m\u001b[38;5;241m*\u001b[39mkwargs)\n",
      "File \u001b[0;32m~/anaconda3/envs/llamas_data_reduction/lib/python3.12/site-packages/ray/_private/worker.py:2753\u001b[0m, in \u001b[0;36mget\u001b[0;34m(object_refs, timeout)\u001b[0m\n\u001b[1;32m   2747\u001b[0m     \u001b[38;5;28;01mraise\u001b[39;00m \u001b[38;5;167;01mValueError\u001b[39;00m(\n\u001b[1;32m   2748\u001b[0m         \u001b[38;5;124mf\u001b[39m\u001b[38;5;124m\"\u001b[39m\u001b[38;5;124mInvalid type of object refs, \u001b[39m\u001b[38;5;132;01m{\u001b[39;00m\u001b[38;5;28mtype\u001b[39m(object_refs)\u001b[38;5;132;01m}\u001b[39;00m\u001b[38;5;124m, is given. \u001b[39m\u001b[38;5;124m\"\u001b[39m\n\u001b[1;32m   2749\u001b[0m         \u001b[38;5;124m\"\u001b[39m\u001b[38;5;124m'\u001b[39m\u001b[38;5;124mobject_refs\u001b[39m\u001b[38;5;124m'\u001b[39m\u001b[38;5;124m must either be an ObjectRef or a list of ObjectRefs. \u001b[39m\u001b[38;5;124m\"\u001b[39m\n\u001b[1;32m   2750\u001b[0m     )\n\u001b[1;32m   2752\u001b[0m \u001b[38;5;66;03m# TODO(ujvl): Consider how to allow user to retrieve the ready objects.\u001b[39;00m\n\u001b[0;32m-> 2753\u001b[0m values, debugger_breakpoint \u001b[38;5;241m=\u001b[39m worker\u001b[38;5;241m.\u001b[39mget_objects(object_refs, timeout\u001b[38;5;241m=\u001b[39mtimeout)\n\u001b[1;32m   2754\u001b[0m \u001b[38;5;28;01mfor\u001b[39;00m i, value \u001b[38;5;129;01min\u001b[39;00m \u001b[38;5;28menumerate\u001b[39m(values):\n\u001b[1;32m   2755\u001b[0m     \u001b[38;5;28;01mif\u001b[39;00m \u001b[38;5;28misinstance\u001b[39m(value, RayError):\n",
      "File \u001b[0;32m~/anaconda3/envs/llamas_data_reduction/lib/python3.12/site-packages/ray/_private/worker.py:906\u001b[0m, in \u001b[0;36mWorker.get_objects\u001b[0;34m(self, object_refs, timeout, return_exceptions)\u001b[0m\n\u001b[1;32m    904\u001b[0m                 \u001b[38;5;28;01mraise\u001b[39;00m value\u001b[38;5;241m.\u001b[39mas_instanceof_cause()\n\u001b[1;32m    905\u001b[0m             \u001b[38;5;28;01melse\u001b[39;00m:\n\u001b[0;32m--> 906\u001b[0m                 \u001b[38;5;28;01mraise\u001b[39;00m value\n\u001b[1;32m    908\u001b[0m \u001b[38;5;28;01mreturn\u001b[39;00m values, debugger_breakpoint\n",
      "\u001b[0;31mActorDiedError\u001b[0m: The actor died because of an error raised in its creation task, \u001b[36mray::TraceRay.__init__()\u001b[39m (pid=66880, ip=127.0.0.1, actor_id=0a2b5728176ff99a82bd650c01000000, repr=<llamas_pyjamas.Trace.traceLlamasMulti.FunctionActorManager._create_fake_actor_class.<locals>.TemporaryActor object at 0x106e44500>)\n           ^^^^^^^^^^^^^^^^^^^^^^^^^^^^^^^^^^^^\nRuntimeError: The actor with name TraceRay failed to import on the worker. This may be because needed library dependencies are not installed in the worker environment:\n\n\u001b[36mray::TraceRay.__init__()\u001b[39m (pid=66880, ip=127.0.0.1, actor_id=0a2b5728176ff99a82bd650c01000000, repr=<llamas_pyjamas.Trace.traceLlamasMulti.FunctionActorManager._create_fake_actor_class.<locals>.TemporaryActor object at 0x106e44500>)\n                  ^^^^^^^^^^^^^^^^^^^^^^^^^^^\nModuleNotFoundError: No module named 'llamas_pyjamas'"
     ]
    }
   ],
   "source": [
    "fitsfile = '/Users/slh/Documents/Projects/Magellan_dev/LLAMAS/LLAMAS_2024-11-20T13_15_33.000_mef.fits'\n",
    "main(fitsfile)"
   ]
  },
  {
   "cell_type": "code",
   "execution_count": 7,
   "metadata": {},
   "outputs": [],
   "source": [
    "##This code needs more automation added \n",
    "def extract(tracepkl):\n",
    "    with open(tracepkl, \"rb\") as tracer:\n",
    "        trace = pickle.load(tracer)\n",
    "    extraction1 = ExtractLlamas(trace)\n",
    "    extraction1.saveExtraction()\n",
    "    return"
   ]
  },
  {
   "cell_type": "code",
   "execution_count": 8,
   "metadata": {},
   "outputs": [
    {
     "name": "stderr",
     "output_type": "stream",
     "text": [
      "No profile for fiber #0\n",
      "No profile for fiber #1\n",
      "No profile for fiber #2\n",
      "No profile for fiber #3\n",
      "No profile for fiber #4\n",
      "No profile for fiber #5\n",
      "No profile for fiber #6\n",
      "No profile for fiber #7\n",
      "No profile for fiber #8\n",
      "No profile for fiber #9\n",
      "No profile for fiber #10\n",
      "No profile for fiber #11\n",
      "No profile for fiber #12\n",
      "No profile for fiber #13\n",
      "No profile for fiber #14\n",
      "No profile for fiber #15\n",
      "No profile for fiber #16\n",
      "No profile for fiber #17\n",
      "No profile for fiber #18\n",
      "No profile for fiber #19\n",
      "No profile for fiber #20\n",
      "No profile for fiber #21\n",
      "No profile for fiber #0\n",
      "No profile for fiber #1\n",
      "No profile for fiber #2\n",
      "No profile for fiber #3\n",
      "No profile for fiber #4\n",
      "No profile for fiber #5\n",
      "No profile for fiber #6\n",
      "No profile for fiber #7\n",
      "No profile for fiber #8\n",
      "No profile for fiber #9\n",
      "No profile for fiber #10\n",
      "No profile for fiber #11\n",
      "No profile for fiber #12\n",
      "No profile for fiber #13\n",
      "No profile for fiber #14\n",
      "No profile for fiber #15\n",
      "No profile for fiber #16\n",
      "No profile for fiber #17\n",
      "No profile for fiber #18\n",
      "No profile for fiber #19\n",
      "No profile for fiber #20\n",
      "No profile for fiber #21\n",
      "No profile for fiber #22\n",
      "No profile for fiber #23\n",
      "No profile for fiber #24\n",
      "No profile for fiber #25\n",
      "No profile for fiber #26\n",
      "No profile for fiber #27\n",
      "No profile for fiber #28\n",
      "No profile for fiber #29\n",
      "No profile for fiber #30\n",
      "No profile for fiber #31\n",
      "No profile for fiber #32\n",
      "No profile for fiber #33\n",
      "No profile for fiber #34\n",
      "No profile for fiber #35\n",
      "No profile for fiber #36\n",
      "No profile for fiber #37\n",
      "No profile for fiber #38\n",
      "No profile for fiber #39\n",
      "No profile for fiber #40\n",
      "No profile for fiber #41\n",
      "No profile for fiber #42\n",
      "No profile for fiber #43\n",
      "No profile for fiber #0\n",
      "No profile for fiber #1\n",
      "No profile for fiber #2\n",
      "No profile for fiber #3\n",
      "No profile for fiber #4\n",
      "No profile for fiber #5\n",
      "No profile for fiber #6\n",
      "No profile for fiber #7\n",
      "No profile for fiber #8\n",
      "No profile for fiber #9\n",
      "No profile for fiber #10\n",
      "No profile for fiber #11\n",
      "No profile for fiber #12\n",
      "No profile for fiber #13\n",
      "No profile for fiber #14\n",
      "No profile for fiber #15\n",
      "No profile for fiber #16\n",
      "No profile for fiber #17\n",
      "No profile for fiber #18\n",
      "No profile for fiber #19\n",
      "No profile for fiber #20\n",
      "No profile for fiber #21\n",
      "No profile for fiber #22\n",
      "No profile for fiber #23\n",
      "No profile for fiber #24\n",
      "No profile for fiber #25\n",
      "No profile for fiber #26\n",
      "No profile for fiber #27\n",
      "No profile for fiber #28\n",
      "No profile for fiber #29\n",
      "No profile for fiber #30\n",
      "No profile for fiber #31\n",
      "No profile for fiber #0\n",
      "No profile for fiber #1\n",
      "No profile for fiber #2\n",
      "No profile for fiber #3\n",
      "No profile for fiber #4\n",
      "No profile for fiber #5\n",
      "No profile for fiber #6\n",
      "No profile for fiber #7\n",
      "No profile for fiber #8\n",
      "No profile for fiber #9\n",
      "No profile for fiber #10\n",
      "No profile for fiber #11\n",
      "No profile for fiber #12\n",
      "No profile for fiber #13\n",
      "No profile for fiber #14\n",
      "No profile for fiber #15\n",
      "No profile for fiber #16\n",
      "No profile for fiber #17\n",
      "No profile for fiber #18\n",
      "No profile for fiber #19\n",
      "No profile for fiber #20\n",
      "No profile for fiber #21\n",
      "No profile for fiber #22\n",
      "No profile for fiber #23\n",
      "No profile for fiber #24\n",
      "No profile for fiber #25\n",
      "No profile for fiber #26\n",
      "No profile for fiber #27\n",
      "No profile for fiber #28\n",
      "No profile for fiber #29\n",
      "No profile for fiber #30\n",
      "No profile for fiber #31\n",
      "No profile for fiber #32\n",
      "No profile for fiber #33\n",
      "No profile for fiber #34\n",
      "No profile for fiber #35\n",
      "No profile for fiber #36\n",
      "No profile for fiber #37\n",
      "No profile for fiber #38\n",
      "No profile for fiber #39\n",
      "No profile for fiber #40\n",
      "No profile for fiber #41\n",
      "No profile for fiber #42\n"
     ]
    },
    {
     "ename": "AttributeError",
     "evalue": "'ExtractLlamas' object has no attribute 'nfibers'",
     "output_type": "error",
     "traceback": [
      "\u001b[0;31m---------------------------------------------------------------------------\u001b[0m",
      "\u001b[0;31mAttributeError\u001b[0m                            Traceback (most recent call last)",
      "Cell \u001b[0;32mIn[8], line 3\u001b[0m\n\u001b[1;32m      1\u001b[0m files \u001b[38;5;241m=\u001b[39m glob\u001b[38;5;241m.\u001b[39mglob(os\u001b[38;5;241m.\u001b[39mpath\u001b[38;5;241m.\u001b[39mjoin(outputdir,\u001b[38;5;124m'\u001b[39m\u001b[38;5;124m*.pkl\u001b[39m\u001b[38;5;124m'\u001b[39m))\n\u001b[1;32m      2\u001b[0m \u001b[38;5;28;01mfor\u001b[39;00m file \u001b[38;5;129;01min\u001b[39;00m files:\n\u001b[0;32m----> 3\u001b[0m     extract(file)\n",
      "Cell \u001b[0;32mIn[7], line 5\u001b[0m, in \u001b[0;36mextract\u001b[0;34m(tracepkl)\u001b[0m\n\u001b[1;32m      3\u001b[0m \u001b[38;5;28;01mwith\u001b[39;00m \u001b[38;5;28mopen\u001b[39m(tracepkl, \u001b[38;5;124m\"\u001b[39m\u001b[38;5;124mrb\u001b[39m\u001b[38;5;124m\"\u001b[39m) \u001b[38;5;28;01mas\u001b[39;00m tracer:\n\u001b[1;32m      4\u001b[0m     trace \u001b[38;5;241m=\u001b[39m pickle\u001b[38;5;241m.\u001b[39mload(tracer)\n\u001b[0;32m----> 5\u001b[0m extraction1 \u001b[38;5;241m=\u001b[39m ExtractLlamas(trace)\n\u001b[1;32m      6\u001b[0m extraction1\u001b[38;5;241m.\u001b[39msaveExtraction()\n\u001b[1;32m      7\u001b[0m \u001b[38;5;28;01mreturn\u001b[39;00m\n",
      "File \u001b[0;32m~/Documents/Projects/Magellan_dev/LLAMAS/llamas-pyjamas/llamas_pyjamas/Extract/extractLlamas.py:29\u001b[0m, in \u001b[0;36mExtractLlamas.__init__\u001b[0;34m(self, trace)\u001b[0m\n\u001b[1;32m     26\u001b[0m     logger\u001b[38;5;241m.\u001b[39mwarning(\u001b[38;5;124m\"\u001b[39m\u001b[38;5;124mRed channel not implemented yet...ending extraction\u001b[39m\u001b[38;5;124m\"\u001b[39m)\n\u001b[1;32m     27\u001b[0m     \u001b[38;5;28;01mreturn\u001b[39;00m\n\u001b[0;32m---> 29\u001b[0m \u001b[38;5;28mself\u001b[39m\u001b[38;5;241m.\u001b[39mcounts \u001b[38;5;241m=\u001b[39m np\u001b[38;5;241m.\u001b[39mzeros(shape\u001b[38;5;241m=\u001b[39m(trace\u001b[38;5;241m.\u001b[39mnfibers,trace\u001b[38;5;241m.\u001b[39mnaxis1))\n\u001b[1;32m     31\u001b[0m \u001b[38;5;28mself\u001b[39m\u001b[38;5;241m.\u001b[39mhdr   \u001b[38;5;241m=\u001b[39m trace\u001b[38;5;241m.\u001b[39mhdr\n\u001b[1;32m     32\u001b[0m \u001b[38;5;28mself\u001b[39m\u001b[38;5;241m.\u001b[39mframe \u001b[38;5;241m=\u001b[39m trace\u001b[38;5;241m.\u001b[39mdata\u001b[38;5;241m.\u001b[39mastype(\u001b[38;5;28mfloat\u001b[39m)\n",
      "\u001b[0;31mAttributeError\u001b[0m: 'ExtractLlamas' object has no attribute 'nfibers'"
     ]
    }
   ],
   "source": [
    "files = glob.glob(os.path.join(outputdir,'*.pkl'))\n",
    "for file in files:\n",
    "    extract(file)"
   ]
  },
  {
   "cell_type": "code",
   "execution_count": null,
   "metadata": {},
   "outputs": [],
   "source": []
  }
 ],
 "metadata": {
  "kernelspec": {
   "display_name": "llamas_data_reduction",
   "language": "python",
   "name": "python3"
  },
  "language_info": {
   "codemirror_mode": {
    "name": "ipython",
    "version": 3
   },
   "file_extension": ".py",
   "mimetype": "text/x-python",
   "name": "python",
   "nbconvert_exporter": "python",
   "pygments_lexer": "ipython3",
   "version": "3.12.7"
  }
 },
 "nbformat": 4,
 "nbformat_minor": 2
}
