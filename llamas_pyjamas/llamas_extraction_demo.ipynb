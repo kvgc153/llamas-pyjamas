{
 "cells": [
  {
   "cell_type": "markdown",
   "metadata": {},
   "source": [
    "# Importing llamas_pyjamas modules"
   ]
  },
  {
   "cell_type": "code",
   "execution_count": null,
   "metadata": {},
   "outputs": [],
   "source": [
    "import os\n",
    "import sys\n",
    "import numpy as np\n",
    "import pickle\n",
    "import ray\n",
    "import pkg_resources\n",
    "import glob\n",
    "import traceback\n",
    "from   pathlib import Path\n",
    "from   config import BASE_DIR, OUTPUT_DIR, DATA_DIR\n",
    "\n",
    "\n",
    "# Get package root and add to path before other imports\n",
    "package_root = Path().absolute().parent\n",
    "sys.path.append(str(package_root))\n",
    "sys.path.append(BASE_DIR+'/')\n",
    "\n",
    "\n",
    "ray.init(ignore_reinit_error=True)\n",
    "import llamas_pyjamas.Trace.traceLlamasMulti as trace # type: ignore\n",
    "import llamas_pyjamas.Extract.extractLlamas as extract # type: ignore\n",
    "\n",
    "# ExtractLlamas, save_extractions, load_extractions, ExtractLlamasCube # type: ignore\n",
    "from llamas_pyjamas.Image.WhiteLight import WhiteLight, WhiteLightFits\n",
    "from llamas_pyjamas.QA.llamasQA import plot_ds9\n",
    "\n"
   ]
  },
  {
   "cell_type": "code",
   "execution_count": null,
   "metadata": {},
   "outputs": [],
   "source": [
    "# Get absolute path to llamas_pyjamas package\n",
    "package_path = pkg_resources.resource_filename('llamas_pyjamas', '')\n",
    "package_root = os.path.dirname(package_path)\n",
    "\n",
    "print(f\"Package path: {package_path}\")\n",
    "print(f\"Package root: {package_root}\")"
   ]
  },
  {
   "cell_type": "code",
   "execution_count": null,
   "metadata": {},
   "outputs": [],
   "source": [
    "# Configure Ray runtime environment\n",
    "runtime_env = {\n",
    "    \"py_modules\": [package_root],\n",
    "    \"env_vars\": {\"PYTHONPATH\": f\"{package_root}:{os.environ.get('PYTHONPATH', '')}\"},\n",
    "    \"excludes\": [\n",
    "        str(Path(DATA_DIR) / \"**\"),  # Exclude DATA_DIR and all subdirectories\n",
    "        \"**/*.fits\",                 # Exclude all FITS files anywhere\n",
    "        \"**/*.gz\",                 # Exclude all tarballs files anywhere\n",
    "        \"**/*.zip\",                 # Exclude all zip files anywhere\n",
    "        \"**/*.pkl\",                  # Exclude all pickle files anywhere\n",
    "        \"**/.git/**\",               # Exclude git directory\n",
    "    ]\n",
    "}\n",
    "\n",
    "# Initialize Ray\n",
    "ray.shutdown()\n",
    "ray.init(runtime_env=runtime_env)"
   ]
  },
  {
   "cell_type": "code",
   "execution_count": null,
   "metadata": {},
   "outputs": [],
   "source": [
    "DATA_DIR = \"/Users/simcoe/Science/LLAMAS/CommissioningRun/NIGHT5\"\n",
    "import importlib\n",
    "importlib.reload(trace)"
   ]
  },
  {
   "cell_type": "markdown",
   "metadata": {},
   "source": [
    "Running the trace finding algorithm on all of the HDU extensions"
   ]
  },
  {
   "cell_type": "code",
   "execution_count": null,
   "metadata": {},
   "outputs": [],
   "source": [
    "filename = os.path.join(DATA_DIR, 'LLAMAS_2024-11-29T23_50_11.041_mef.fits')\n",
    "trace.main(filename)\n",
    "\n",
    "# or run on the command line with the fitsfile as an input argument"
   ]
  },
  {
   "cell_type": "markdown",
   "metadata": {},
   "source": [
    "## Extract the flat field (for getting fiber throughputs later)"
   ]
  },
  {
   "cell_type": "code",
   "execution_count": null,
   "metadata": {},
   "outputs": [],
   "source": [
    "skyflat_filename = filename\n",
    "trace_filename = os.path.join(DATA_DIR, 'LLAMAS_2024-11-29T23_50_11.041_mef.fits')\n",
    "extract.ExtractLlamasCube(skyflat_filename, trace_filename)"
   ]
  },
  {
   "cell_type": "markdown",
   "metadata": {},
   "source": [
    "## Extract an arc frame"
   ]
  },
  {
   "cell_type": "code",
   "execution_count": null,
   "metadata": {},
   "outputs": [],
   "source": [
    "importlib.reload(extract)\n",
    "arc_filename   = os.path.join(DATA_DIR, 'LLAMAS_2024-11-29T23_07_53.063_mef.fits')\n",
    "extract.ExtractLlamasCube(arc_filename, trace_filename)"
   ]
  },
  {
   "cell_type": "markdown",
   "metadata": {},
   "source": [
    "### Read in and plot up arc extractions"
   ]
  },
  {
   "cell_type": "code",
   "execution_count": null,
   "metadata": {},
   "outputs": [],
   "source": [
    "arc_picklename = os.path.join(OUTPUT_DIR, os.path.basename(arc_filename).replace('_mef.fits', '_extract.pkl'))\n",
    "arcspec, metadata = extract.load_extractions(arc_picklename)"
   ]
  },
  {
   "cell_type": "code",
   "execution_count": null,
   "metadata": {},
   "outputs": [],
   "source": [
    "import llamas_pyjamas.Arc.arcLlamas as arc\n",
    "importlib.reload(arc)\n",
    "arc.shiftArcX(arc_picklename)"
   ]
  },
  {
   "cell_type": "code",
   "execution_count": null,
   "metadata": {},
   "outputs": [],
   "source": [
    "import matplotlib.pyplot as plt\n",
    "%matplotlib qt\n",
    "shift_picklename = arc_picklename.replace('_extract.pkl', '_extract_shifted.pkl')\n",
    "arcspec_shifted, metadata_shifted = extract.load_extractions(shift_picklename)\n",
    "[plt.plot(arcspec_shifted[18].xshift[i,:], arcspec_shifted[18].counts[i,:],\".\") for i in range(100,200)]\n",
    "plt.show()"
   ]
  },
  {
   "cell_type": "code",
   "execution_count": null,
   "metadata": {},
   "outputs": [],
   "source": [
    "dir(arcspec_shifted[0])"
   ]
  },
  {
   "cell_type": "code",
   "execution_count": null,
   "metadata": {},
   "outputs": [],
   "source": [
    "import matplotlib.pyplot as plt\n",
    "print(metadata)\n",
    "plt.plot(arcspec[12].counts[150])\n",
    "plt.plot(arcspec[0].counts[150])\n",
    "plt.show()"
   ]
  },
  {
   "cell_type": "code",
   "execution_count": null,
   "metadata": {},
   "outputs": [],
   "source": [
    "from pypeit.core.wavecal.wvutils import xcorr_shift_stretch\n",
    "func = 'quadratic'\n",
    "fiber = 200\n",
    "success, shift, stretch, stretch2, _, _, _ = xcorr_shift_stretch(arcspec[1].counts[fiber], arcspec[7].counts[150], stretch_func=func)\n",
    "print(success, shift, stretch, stretch2)\n",
    "x = np.arange(2048)\n",
    "plt.plot((x*stretch+x**2*stretch2)+shift, arcspec[7].counts[150])\n",
    "plt.plot(x, arcspec[1].counts[fiber])\n",
    "\n",
    "plt.show()"
   ]
  },
  {
   "cell_type": "code",
   "execution_count": null,
   "metadata": {},
   "outputs": [],
   "source": [
    "arcspec[10].trace.fiberimg\n"
   ]
  },
  {
   "cell_type": "markdown",
   "metadata": {},
   "source": [
    "### To generate a WhiteLight image run the following command on the terminal:"
   ]
  },
  {
   "cell_type": "code",
   "execution_count": null,
   "metadata": {},
   "outputs": [],
   "source": [
    "\n",
    "#make sure you are in the llamas_pyjamas directory for this\n",
    "#This is currently set up to do the full extraction and trace on a single file, the fast extraction needs updating to work\n",
    "python3 __main__.py raw_fits_file_path"
   ]
  },
  {
   "cell_type": "markdown",
   "metadata": {},
   "source": [
    "## To reproduce the Look Up Table (LUT) for the combs and fibre positions"
   ]
  },
  {
   "cell_type": "code",
   "execution_count": null,
   "metadata": {},
   "outputs": [],
   "source": [
    "from llamas_pyjamas.Utils import dump_LUT\n",
    "\n",
    "channel = 'green' #re-run this for each color\n",
    "\n",
    "calibration_fits_file = 'path/to/raw/calibration/file'\n",
    "\n",
    "hdu = fits.open(calibration_fits_file)\n",
    "trace = TraceLlamas(calibration_fits_file, find_LUT=True)\n",
    "\n",
    "dump_LUT(channel, hdu, trace)"
   ]
  },
  {
   "cell_type": "markdown",
   "metadata": {},
   "source": [
    "## To flip fibre position ordering in the LUT based on the colour and side"
   ]
  },
  {
   "cell_type": "code",
   "execution_count": null,
   "metadata": {},
   "outputs": [],
   "source": [
    "from llamas_pyjamas.Utils import flip_positions\n",
    "\n",
    "flipped = {\"greenA\":True, \"greenB\":False, \"blueA\": False, \"blueB\":True, \"redA\":True, \"redB\":False}\n",
    "\n",
    "flip_positions()"
   ]
  }
 ],
 "metadata": {
  "kernelspec": {
   "display_name": "llamas",
   "language": "python",
   "name": "python3"
  },
  "language_info": {
   "codemirror_mode": {
    "name": "ipython",
    "version": 3
   },
   "file_extension": ".py",
   "mimetype": "text/x-python",
   "name": "python",
   "nbconvert_exporter": "python",
   "pygments_lexer": "ipython3",
   "version": "3.12.7"
  }
 },
 "nbformat": 4,
 "nbformat_minor": 2
}
