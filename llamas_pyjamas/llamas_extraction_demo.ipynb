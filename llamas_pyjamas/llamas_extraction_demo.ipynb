{
 "cells": [
  {
   "cell_type": "markdown",
   "metadata": {},
   "source": [
    "# Importing llamas_pyjamas modules"
   ]
  },
  {
   "cell_type": "code",
   "execution_count": null,
   "metadata": {},
   "outputs": [],
   "source": [
    "import os\n",
    "import sys\n",
    "import numpy as np\n",
    "import pickle\n",
    "import ray\n",
    "import pkg_resources\n",
    "import glob\n",
    "import traceback\n",
    "from pathlib import Path\n",
    "from config import BASE_DIR, OUTPUT_DIR, DATA_DIR\n",
    "\n",
    "# Get package root and add to path before other imports\n",
    "package_root = Path().absolute().parent\n",
    "sys.path.append(str(package_root))\n",
    "\n",
    "print(BASE_DIR)\n",
    "print(OUTPUT_DIR)\n",
    "print(DATA_DIR)\n",
    "sys.path.append(BASE_DIR+'/')\n",
    "\n",
    "\n",
    "ray.init(ignore_reinit_error=True)\n",
    "from llamas_pyjamas.Trace.traceLlamasMulti import main # type: ignore\n",
    "from llamas_pyjamas.Extract.extractLlamas import ExtractLlamas, save_extractions, load_extractions # type: ignore\n",
    "\n"
   ]
  },
  {
   "cell_type": "code",
   "execution_count": null,
   "metadata": {},
   "outputs": [],
   "source": [
    "# Get absolute path to llamas_pyjamas package\n",
    "package_path = pkg_resources.resource_filename('llamas_pyjamas', '')\n",
    "package_root = os.path.dirname(package_path)\n",
    "\n",
    "print(f\"Package path: {package_path}\")\n",
    "print(f\"Package root: {package_root}\")"
   ]
  },
  {
   "cell_type": "code",
   "execution_count": null,
   "metadata": {},
   "outputs": [],
   "source": [
    "# Configure Ray runtime environment\n",
    "runtime_env = {\n",
    "    \"py_modules\": [package_root],\n",
    "    \"env_vars\": {\"PYTHONPATH\": f\"{package_root}:{os.environ.get('PYTHONPATH', '')}\"},\n",
    "    \"excludes\": [\n",
    "        str(Path(DATA_DIR) / \"**\"),  # Exclude DATA_DIR and all subdirectories\n",
    "        \"**/*.fits\",                 # Exclude all FITS files anywhere\n",
    "        \"**/*.pkl\",                  # Exclude all pickle files anywhere\n",
    "        \"**/.git/**\",               # Exclude git directory\n",
    "    ]\n",
    "}\n",
    "\n",
    "# Initialize Ray\n",
    "ray.shutdown()\n",
    "ray.init(runtime_env=runtime_env)"
   ]
  },
  {
   "cell_type": "markdown",
   "metadata": {},
   "source": [
    "Running the trace finding algorithm on all of the HDU extensions"
   ]
  },
  {
   "cell_type": "code",
   "execution_count": null,
   "metadata": {},
   "outputs": [],
   "source": [
    "#fitsfile = '/Users/slh/Documents/Projects/Magellan_dev/LLAMAS/LLAMAS_2024-11-20T13_15_33.000_mef.fits'\n",
    "filename = os.path.join(DATA_DIR, 'LLAMAS_2024-08-23T16_12_14.742_mef.fits')\n",
    "main(filename)"
   ]
  },
  {
   "cell_type": "code",
   "execution_count": null,
   "metadata": {},
   "outputs": [],
   "source": [
    "\n",
    "def extract_traces(files):\n",
    "    extraction_list = []\n",
    "    for file in files:\n",
    "        try:\n",
    "            with open(file, mode='rb') as f:\n",
    "                tracer = pickle.load(f)\n",
    "            extraction = ExtractLlamas(tracer)\n",
    "            extraction_list.append(extraction)\n",
    "        except Exception as e:\n",
    "            print(f\"Error extracting trace from {file}\")\n",
    "            print(traceback.format_exc())\n",
    "    save_extractions(extraction_list)\n",
    "    return"
   ]
  },
  {
   "cell_type": "code",
   "execution_count": null,
   "metadata": {},
   "outputs": [],
   "source": [
    "os.listdir(OUTPUT_DIR)\n",
    "files = glob.glob(os.path.join(OUTPUT_DIR,'Green*traces.pkl'))\n",
    "extract_traces(files)"
   ]
  },
  {
   "cell_type": "code",
   "execution_count": null,
   "metadata": {},
   "outputs": [],
   "source": [
    "obj, metadata = load_extractions(os.path.join(OUTPUT_DIR, 'LLAMASExtract_batch_20241124_212633.pkl'))"
   ]
  },
  {
   "cell_type": "code",
   "execution_count": 9,
   "metadata": {},
   "outputs": [
    {
     "name": "stdout",
     "output_type": "stream",
     "text": [
      "[{'channel': 'green', 'bench': 1, 'side': 'B', 'nfibers': 156}, {'channel': 'Green', 'bench': 4, 'side': 'A', 'nfibers': 297}, {'channel': 'green', 'bench': 3, 'side': 'A', 'nfibers': 158}, {'channel': 'Green', 'bench': 2, 'side': 'A', 'nfibers': 299}, {'channel': 'green', 'bench': 2, 'side': 'B', 'nfibers': 149}, {'channel': 'green', 'bench': 4, 'side': 'B', 'nfibers': 138}, {'channel': 'green', 'bench': 3, 'side': 'B', 'nfibers': 139}, {'channel': 'Green', 'bench': 1, 'side': 'A', 'nfibers': 298}]\n"
     ]
    }
   ],
   "source": [
    "print(metadata)"
   ]
  },
  {
   "cell_type": "code",
   "execution_count": null,
   "metadata": {},
   "outputs": [],
   "source": [
    "from llamas_pyjamas.Image.WhiteLight import WhiteLight\n",
    "WhiteLight(obj)"
   ]
  },
  {
   "cell_type": "code",
   "execution_count": null,
   "metadata": {},
   "outputs": [],
   "source": [
    "###Optional code to plot arrays from the tracing and extraction process\n",
    "from llamas_pyjamas.QA.llamasQA import plot_ds9\n",
    "\n",
    "# with open(os.path.join(OUTPUT_DIR,'LLAMASExtract_Red_B_4.pkl'), \"rb\") as tracer:\n",
    "#     obj = pickle.load(tracer)\n",
    "\n",
    "# plot_ds9(obj.counts)"
   ]
  }
 ],
 "metadata": {
  "kernelspec": {
   "display_name": "llamas_data_reduction",
   "language": "python",
   "name": "python3"
  },
  "language_info": {
   "codemirror_mode": {
    "name": "ipython",
    "version": 3
   },
   "file_extension": ".py",
   "mimetype": "text/x-python",
   "name": "python",
   "nbconvert_exporter": "python",
   "pygments_lexer": "ipython3",
   "version": "3.12.7"
  }
 },
 "nbformat": 4,
 "nbformat_minor": 2
}
