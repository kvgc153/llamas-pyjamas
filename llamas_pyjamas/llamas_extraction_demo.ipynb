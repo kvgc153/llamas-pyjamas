{
 "cells": [
  {
   "cell_type": "markdown",
   "metadata": {},
   "source": [
    "# Importing llamas_pyjamas modules"
   ]
  },
  {
   "cell_type": "code",
   "execution_count": null,
   "metadata": {},
   "outputs": [],
   "source": [
    "import os\n",
    "import sys\n",
    "import numpy as np\n",
    "import pickle\n",
    "import ray\n",
    "import pkg_resources\n",
    "import glob\n",
    "import traceback\n",
    "from pathlib import Path\n",
    "from config import BASE_DIR, OUTPUT_DIR, DATA_DIR\n",
    "\n",
    "\n",
    "# Get package root and add to path before other imports\n",
    "package_root = Path().absolute().parent\n",
    "sys.path.append(str(package_root))\n",
    "sys.path.append(BASE_DIR+'/')\n",
    "\n",
    "\n",
    "ray.init(ignore_reinit_error=True)\n",
    "from llamas_pyjamas.Trace.traceLlamasMulti import main # type: ignore\n",
    "from llamas_pyjamas.Extract.extractLlamas import ExtractLlamas, save_extractions, load_extractions # type: ignore\n",
    "from llamas_pyjamas.Image.WhiteLight import WhiteLight, WhiteLightFits\n",
    "from llamas_pyjamas.QA.llamasQA import plot_ds9\n",
    "\n"
   ]
  },
  {
   "cell_type": "code",
   "execution_count": null,
   "metadata": {},
   "outputs": [],
   "source": [
    "# Get absolute path to llamas_pyjamas package\n",
    "package_path = pkg_resources.resource_filename('llamas_pyjamas', '')\n",
    "package_root = os.path.dirname(package_path)\n",
    "\n",
    "print(f\"Package path: {package_path}\")\n",
    "print(f\"Package root: {package_root}\")"
   ]
  },
  {
   "cell_type": "code",
   "execution_count": null,
   "metadata": {},
   "outputs": [],
   "source": [
    "# Configure Ray runtime environment\n",
    "runtime_env = {\n",
    "    \"py_modules\": [package_root],\n",
    "    \"env_vars\": {\"PYTHONPATH\": f\"{package_root}:{os.environ.get('PYTHONPATH', '')}\"},\n",
    "    \"excludes\": [\n",
    "        str(Path(DATA_DIR) / \"**\"),  # Exclude DATA_DIR and all subdirectories\n",
    "        \"**/*.fits\",                 # Exclude all FITS files anywhere\n",
    "        \"**/*.pkl\",                  # Exclude all pickle files anywhere\n",
    "        \"**/.git/**\",               # Exclude git directory\n",
    "    ]\n",
    "}\n",
    "\n",
    "# Initialize Ray\n",
    "ray.shutdown()\n",
    "ray.init(runtime_env=runtime_env)"
   ]
  },
  {
   "cell_type": "markdown",
   "metadata": {},
   "source": [
    "Running the trace finding algorithm on all of the HDU extensions"
   ]
  },
  {
   "cell_type": "code",
   "execution_count": null,
   "metadata": {},
   "outputs": [],
   "source": [
    "#fitsfile = '/Users/slh/Documents/Projects/Magellan_dev/LLAMAS/LLAMAS_2024-11-20T13_15_33.000_mef.fits'\n",
    "filename = os.path.join(DATA_DIR, 'LLAMAS_2024-11-20T13_15_33.000_mef.fits') \n",
    "main(filename)\n",
    "\n",
    "# or run on the command line with the fitsfile as an input argument\n"
   ]
  },
  {
   "cell_type": "markdown",
   "metadata": {},
   "source": [
    "## To generate a WhiteLight image run the following command on the terminal:"
   ]
  },
  {
   "cell_type": "code",
   "execution_count": null,
   "metadata": {},
   "outputs": [],
   "source": [
    "\n",
    "#make sure you are in the llamas_pyjamas directory for this\n",
    "#This is currently set up to do the full extraction and trace on a single file, the fast extraction needs updating to work\n",
    "python3 __main__.py raw_fits_file_path"
   ]
  },
  {
   "cell_type": "markdown",
   "metadata": {},
   "source": [
    "## To reproduce the Look Up Table (LUT) for the combs and fibre positions"
   ]
  },
  {
   "cell_type": "code",
   "execution_count": null,
   "metadata": {},
   "outputs": [],
   "source": [
    "from llamas_pyjamas.Utils import dump_LUT\n",
    "\n",
    "channel = 'green' #re-run this for each color\n",
    "\n",
    "calibration_fits_file = 'path/to/raw/calibration/file'\n",
    "\n",
    "hdu = fits.open(calibration_fits_file)\n",
    "trace = TraceLlamas(calibration_fits_file, find_LUT=True)\n",
    "\n",
    "dump_LUT(channel, hdu, trace)"
   ]
  },
  {
   "cell_type": "markdown",
   "metadata": {},
   "source": [
    "## To flip fibre position ordering in the LUT based on the colour and side"
   ]
  },
  {
   "cell_type": "code",
   "execution_count": null,
   "metadata": {},
   "outputs": [],
   "source": [
    "from llamas_pyjamas.Utils import flip_positions\n",
    "\n",
    "flipped = {\"greenA\":True, \"greenB\":False, \"blueA\": False, \"blueB\":True, \"redA\":True, \"redB\":False}\n",
    "\n",
    "flip_positions()"
   ]
  }
 ],
 "metadata": {
  "kernelspec": {
   "display_name": "llamas_data_reduction",
   "language": "python",
   "name": "python3"
  },
  "language_info": {
   "codemirror_mode": {
    "name": "ipython",
    "version": 3
   },
   "file_extension": ".py",
   "mimetype": "text/x-python",
   "name": "python",
   "nbconvert_exporter": "python",
   "pygments_lexer": "ipython3",
   "version": "3.12.7"
  }
 },
 "nbformat": 4,
 "nbformat_minor": 2
}
