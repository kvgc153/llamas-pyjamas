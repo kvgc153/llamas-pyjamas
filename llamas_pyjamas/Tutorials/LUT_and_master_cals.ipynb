{
 "cells": [
  {
   "cell_type": "markdown",
   "metadata": {},
   "source": [
    "# For LUT and master trace generation"
   ]
  },
  {
   "cell_type": "markdown",
   "metadata": {},
   "source": [
    "## To reproduce the Look Up Table (LUT) for the combs and fibre positions"
   ]
  },
  {
   "cell_type": "code",
   "execution_count": null,
   "metadata": {},
   "outputs": [],
   "source": [
    "from llamas_pyjamas.Utils import dump_LUT\n",
    "from llamas_pyjamas.TraceLlamas import TraceLlamas\n",
    "from astropy.io import fits\n",
    "\n",
    "channel = 'green' #re-run this for each color\n",
    "\n",
    "calibration_fits_file = 'path/to/raw/calibration/file'\n",
    "\n",
    "hdu = fits.open(calibration_fits_file)\n",
    "trace = TraceLlamas(calibration_fits_file, find_LUT=True)\n",
    "\n",
    "dump_LUT(channel, hdu, trace)"
   ]
  },
  {
   "cell_type": "markdown",
   "metadata": {},
   "source": [
    "## To flip fibre position ordering in the LUT based on the colour and side"
   ]
  },
  {
   "cell_type": "code",
   "execution_count": null,
   "metadata": {},
   "outputs": [],
   "source": [
    "from llamas_pyjamas.Utils import flip_positions\n",
    "\n",
    "flipped = {\"greenA\":True, \"greenB\":False, \"blueA\": False, \"blueB\":True, \"redA\":True, \"redB\":False}\n",
    "\n",
    "flip_positions()"
   ]
  }
 ],
 "metadata": {
  "language_info": {
   "name": "python"
  }
 },
 "nbformat": 4,
 "nbformat_minor": 2
}
