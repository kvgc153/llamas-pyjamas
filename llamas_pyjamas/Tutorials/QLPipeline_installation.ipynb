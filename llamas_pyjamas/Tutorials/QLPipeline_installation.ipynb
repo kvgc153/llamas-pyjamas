{
 "cells": [
  {
   "cell_type": "markdown",
   "metadata": {},
   "source": [
    "# Installation guide"
   ]
  },
  {
   "cell_type": "markdown",
   "metadata": {},
   "source": [
    "To install the llamas_pyjamas package do the following steps:\n",
    "\n",
    "1. Clone the repo from github: \n",
    "2. Create a new conda environment with python 3.12 using the command `conda create -n \"myenv\" python=3.12`\n",
    "\n",
    "**Note! It you cannot use python 3.13 as this is not yet compatible with the Ray package**\n",
    "\n",
    "3. Open your terminal and change directory into the top level folder of llamas_pyjamas with the .toml file\n",
    "4. Run the command: `pip install -e .`\n",
    "\n",
    "**Once installed, check that the numpy version installed is 2.2.1**\n",
    "\n",
    "5. Install the following packages using pip in your conda env: cloudpickle, rpdb, ray\n",
    "*These will eventually be integrated into the poetry requirements file but not at this stage*\n",
    "\n",
    "6. Test your installation by opening ipython (pip install this if need be) and run the command:\n",
    " `from llamas_pyjamas.Extract.extractLlamas import ExtractLlamas`"
   ]
  },
  {
   "cell_type": "markdown",
   "metadata": {},
   "source": [
    "# Running the QL"
   ]
  },
  {
   "cell_type": "markdown",
   "metadata": {},
   "source": [
    "**To run the QL you must have ds9 installed**\n",
    "\n",
    "1. Run ds9 in the background of your terminal using the command `ds9 &`\n",
    "2. In your terminal move into the `GUI` subdirectory of llamas_pyjamas\n",
    "3. Run the command `python obslog.py` to open the GUI\n",
    "4. Once the GUI is open, at the top menu bar go to `File -> Data Path` and click this option. You then need to select the directory where the data you want to reduce is located.\n",
    "5. in the GUI window, select the file you wish to reduce and press the `Extract` button. \n",
    "*This takes approximately 5 minutes to run*\n"
   ]
  }
 ],
 "metadata": {
  "language_info": {
   "name": "python"
  }
 },
 "nbformat": 4,
 "nbformat_minor": 2
}
